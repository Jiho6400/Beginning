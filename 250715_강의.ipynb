{
  "nbformat": 4,
  "nbformat_minor": 0,
  "metadata": {
    "colab": {
      "provenance": [],
      "authorship_tag": "ABX9TyNsFCXqL40c6joedd/FCAO7",
      "include_colab_link": true
    },
    "kernelspec": {
      "name": "python3",
      "display_name": "Python 3"
    },
    "language_info": {
      "name": "python"
    }
  },
  "cells": [
    {
      "cell_type": "markdown",
      "metadata": {
        "id": "view-in-github",
        "colab_type": "text"
      },
      "source": [
        "<a href=\"https://colab.research.google.com/github/Jiho6400/Beginning/blob/main/250715_%EA%B0%95%EC%9D%98.ipynb\" target=\"_parent\"><img src=\"https://colab.research.google.com/assets/colab-badge.svg\" alt=\"Open In Colab\"/></a>"
      ]
    },
    {
      "cell_type": "markdown",
      "source": [
        "1. Colab 기본 사용법"
      ],
      "metadata": {
        "id": "OQV93IuwQMYp"
      }
    },
    {
      "cell_type": "code",
      "source": [
        "#첫번째 코드\n",
        "print(\"Hello, Colab!\")\n",
        "print(\"Python 데이터 분석을 시작합니다!\")\n",
        "\n",
        "#변수 선언\n",
        "name=\"데이터 분석가\"\n",
        "print(f\"안녕하세요, {name}님!\")\n",
        "\n",
        "#간단한 계산\n",
        "result=10+20\n"
      ],
      "metadata": {
        "colab": {
          "base_uri": "https://localhost:8080/"
        },
        "id": "KYTTcOckSsqU",
        "outputId": "904633f9-9f98-4c27-8860-1837de1778be"
      },
      "execution_count": 1,
      "outputs": [
        {
          "output_type": "stream",
          "name": "stdout",
          "text": [
            "hello, Colab!\n",
            "Python 데이터 분석을 시작합니다!\n",
            "안녕하세요, 데이터 분석가님!\n"
          ]
        }
      ]
    },
    {
      "cell_type": "markdown",
      "source": [
        "TOC에 섹션 만들기\n",
        "\n",
        "#lec2"
      ],
      "metadata": {
        "id": "ojR8MeNsT0Vm"
      }
    },
    {
      "cell_type": "markdown",
      "source": [
        "#Lec3\n"
      ],
      "metadata": {
        "id": "pyXGbYViVNIt"
      }
    },
    {
      "cell_type": "code",
      "source": [
        "#Gemini 활용\n",
        "\n",
        "#\"계산기 기능을 수행하는 코드를 생성해줘 \"\n"
      ],
      "metadata": {
        "id": "-Hdl3osxWZMY"
      },
      "execution_count": null,
      "outputs": []
    },
    {
      "cell_type": "code",
      "metadata": {
        "colab": {
          "base_uri": "https://localhost:8080/"
        },
        "id": "43a57443",
        "outputId": "c33f7ede-5ec6-4ba9-f877-eb2c7a990ec3"
      },
      "source": [
        "def add(x, y):\n",
        "  \"\"\"두 숫자를 더합니다.\"\"\"\n",
        "  return x + y\n",
        "\n",
        "def subtract(x, y):\n",
        "  \"\"\"두 숫자를 뺍니다.\"\"\"\n",
        "  return x - y\n",
        "\n",
        "def multiply(x, y):\n",
        "  \"\"\"두 숫자를 곱합니다.\"\"\"\n",
        "  return x * y\n",
        "\n",
        "def divide(x, y):\n",
        "  \"\"\"두 숫자를 나눕니다.\"\"\"\n",
        "  if y == 0:\n",
        "    return \"0으로 나눌 수 없습니다.\"\n",
        "  return x / y\n",
        "\n",
        "print(\"간단한 계산기\")\n",
        "print(\"연산을 선택하세요:\")\n",
        "print(\"1. 더하기\")\n",
        "print(\"2. 빼기\")\n",
        "print(\"3. 곱하기\")\n",
        "print(\"4. 나누기\")\n",
        "\n",
        "while True:\n",
        "  choice = input(\"선택(1/2/3/4): \")\n",
        "\n",
        "  if choice in ('1', '2', '3', '4'):\n",
        "    try:\n",
        "      num1 = float(input(\"첫 번째 숫자: \"))\n",
        "      num2 = float(input(\"두 번째 숫자: \"))\n",
        "    except ValueError:\n",
        "      print(\"잘못된 입력입니다. 숫자를 입력하세요.\")\n",
        "      continue\n",
        "\n",
        "    if choice == '1':\n",
        "      print(num1, \"+\", num2, \"=\", add(num1, num2))\n",
        "\n",
        "    elif choice == '2':\n",
        "      print(num1, \"-\", num2, \"=\", subtract(num1, num2))\n",
        "\n",
        "    elif choice == '3':\n",
        "      print(num1, \"*\", num2, \"=\", multiply(num1, num2))\n",
        "\n",
        "    elif choice == '4':\n",
        "      print(num1, \"/\", num2, \"=\", divide(num1, num2))\n",
        "    break\n",
        "  else:\n",
        "    print(\"잘못된 입력입니다. 다시 선택하세요.\")"
      ],
      "execution_count": 2,
      "outputs": [
        {
          "output_type": "stream",
          "name": "stdout",
          "text": [
            "간단한 계산기\n",
            "연산을 선택하세요:\n",
            "1. 더하기\n",
            "2. 빼기\n",
            "3. 곱하기\n",
            "4. 나누기\n",
            "선택(1/2/3/4): 1\n",
            "첫 번째 숫자: 65535+65535+2\n",
            "잘못된 입력입니다. 숫자를 입력하세요.\n",
            "선택(1/2/3/4): 65536\n",
            "잘못된 입력입니다. 다시 선택하세요.\n",
            "선택(1/2/3/4): 1\n",
            "첫 번째 숫자: 65536\n",
            "두 번째 숫자: 65536\n",
            "65536.0 + 65536.0 = 131072.0\n"
          ]
        }
      ]
    },
    {
      "cell_type": "code",
      "source": [
        "#Github 사본 저장 후 업데이트\n"
      ],
      "metadata": {
        "id": "uaIhusDpWnec"
      },
      "execution_count": null,
      "outputs": []
    }
  ]
}